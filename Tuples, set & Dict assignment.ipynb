{
 "cells": [
  {
   "cell_type": "markdown",
   "id": "5477430d-8a49-45fe-9a14-0c41a74d310f",
   "metadata": {},
   "source": [
    "##Q1. What are the characteristics of the tuples? Is tuple immutable?##\n",
    "-\tThey are created using () brackets\n",
    "-\tThey can have many items with the same value without any issue\n",
    "-\tInformation can be accessed using indexing\n",
    "-\tThe elements created within a tuple maintain the order they have been created\n",
    "-\tTuples can’t be changed once they are created; so YES, they are immutable\n"
   ]
  },
  {
   "cell_type": "markdown",
   "id": "f3c90a73-186e-4c3e-88dc-3b54661bc39f",
   "metadata": {},
   "source": [
    "##Q2. What are the two tuple methods in python? ##\n",
    "-\tCount() – returns the number of times the mentioned element occurs\n",
    "-\tIndex() – returns the index of the mentioned and existing element \n"
   ]
  },
  {
   "cell_type": "markdown",
   "id": "cb474fcc-74e8-4281-99ea-559dc9b04db0",
   "metadata": {},
   "source": [
    "\n",
    "##Example of using the count method in tuples##"
   ]
  },
  {
   "cell_type": "code",
   "execution_count": 1,
   "id": "8ca32e1d-ac32-4f06-b3f4-f0302e40b17d",
   "metadata": {},
   "outputs": [
    {
     "name": "stdout",
     "output_type": "stream",
     "text": [
      "1\n"
     ]
    }
   ],
   "source": [
    "t1 = (12, 20, 45, 9)\n",
    "print (t1.count(12))\n"
   ]
  },
  {
   "cell_type": "markdown",
   "id": "8c97b3f8-8401-4949-8068-50d51e5a8934",
   "metadata": {},
   "source": [
    "##Example of using the index method in tuples##"
   ]
  },
  {
   "cell_type": "code",
   "execution_count": 2,
   "id": "ac28eec5-bf60-4183-bb63-19e56df27d42",
   "metadata": {},
   "outputs": [
    {
     "name": "stdout",
     "output_type": "stream",
     "text": [
      "3\n"
     ]
    }
   ],
   "source": [
    "t1 = (12, 20, 45, 9)\n",
    "print (t1.index(9))"
   ]
  },
  {
   "cell_type": "markdown",
   "id": "a9fe0439-acf5-4c6b-b6c5-c6bea8c943de",
   "metadata": {},
   "source": [
    "##Give a reason why tuples have only two in-built methods as compared to Lists.##\n",
    "- Tuples are immutable and with fixed length so the other in-built methods like deletion, insertion etc can’t be performed\n"
   ]
  },
  {
   "cell_type": "markdown",
   "id": "94c2f079-c941-4d6a-b5a8-c14dfdc907f9",
   "metadata": {},
   "source": [
    "##Q3. Which collection datatypes in python do not allow duplicate items? \n",
    "- Sets##"
   ]
  },
  {
   "cell_type": "markdown",
   "id": "e760ffcf-180d-498b-af17-5ed38a34985a",
   "metadata": {},
   "source": [
    "##Write a code using a set to remove duplicates from the given list.##"
   ]
  },
  {
   "cell_type": "code",
   "execution_count": 7,
   "id": "d7dcbd6d-f04e-4929-84f1-05212ece8bbf",
   "metadata": {},
   "outputs": [
    {
     "name": "stdout",
     "output_type": "stream",
     "text": [
      "[1, 2, 3, 4]\n"
     ]
    }
   ],
   "source": [
    "List = [1, 1, 1, 2, 1, 3, 1, 4, 2, 1, 2, 2, 2, 3, 2, 4, 3, 1, 3, 2, 3, 3, 3, 4, 4, 1, 4, 2, 4, 3, 4, 4]\n",
    "new_list = set(List)\n",
    "print(list(new_list))"
   ]
  },
  {
   "cell_type": "code",
   "execution_count": 6,
   "id": "c571915a-6120-4f59-9423-39f78948d2d6",
   "metadata": {},
   "outputs": [
    {
     "name": "stdout",
     "output_type": "stream",
     "text": [
      "[1, 2, 3, 4]\n"
     ]
    }
   ],
   "source": [
    "new_list = set(List)\n",
    "print(list(new_list))\n"
   ]
  },
  {
   "cell_type": "markdown",
   "id": "1b1b2b0a-e1b7-4031-b4ec-ee1e1c6f0d2e",
   "metadata": {},
   "source": [
    "##Q4. Explain the difference between the union() and update() methods for a set. \n",
    "\n",
    "- The union() method is used to combine two or more sets and the resulting set shall only contain unique values. \n",
    "- The update() method is used to update a set with the union of elements to an existing set##\n",
    "\n"
   ]
  },
  {
   "cell_type": "markdown",
   "id": "2c59d6d9-d4f6-476c-8890-bd2e2c43c9a0",
   "metadata": {},
   "source": [
    "##Example of update method on sets##"
   ]
  },
  {
   "cell_type": "code",
   "execution_count": 8,
   "id": "c6ecc6d8-c8cc-4cfd-bc21-9fdeabdec936",
   "metadata": {},
   "outputs": [
    {
     "data": {
      "text/plain": [
       "{1, 2, 3, 4, 5, 6}"
      ]
     },
     "execution_count": 8,
     "metadata": {},
     "output_type": "execute_result"
    }
   ],
   "source": [
    "s1 = {1, 2, 3}\n",
    "s1.update([4, 5, 6])\n",
    "s1"
   ]
  },
  {
   "cell_type": "markdown",
   "id": "6a34984d-fefd-46bd-83e7-fa635e8104d3",
   "metadata": {},
   "source": [
    "##Example of union method on sets##"
   ]
  },
  {
   "cell_type": "code",
   "execution_count": 9,
   "id": "6fa9d25f-9a3e-4357-b49c-2c2425e8f52d",
   "metadata": {},
   "outputs": [
    {
     "data": {
      "text/plain": [
       "{1, 2, 3, 4, 5, 6, 7}"
      ]
     },
     "execution_count": 9,
     "metadata": {},
     "output_type": "execute_result"
    }
   ],
   "source": [
    "A = {1, 2, 3}\n",
    "B = {3, 4, 5}\n",
    "C = {5, 6, 7}\n",
    "result = A.union(B, C)\n",
    "result"
   ]
  },
  {
   "cell_type": "markdown",
   "id": "c548af94-dc01-4b91-889e-e5988cf5ac14",
   "metadata": {},
   "source": [
    "##Q5. What is a dictionary? Give an example. Also, state whether a dictionary is ordered or unordered.##\n",
    "- A dictionary is a collection of stored data with a key and value pairing, and written within {}. The elements are unordered.\n",
    "\n",
    "Example"
   ]
  },
  {
   "cell_type": "code",
   "execution_count": 10,
   "id": "b7192fe5-4a76-40e8-96e2-40c8b1dfa091",
   "metadata": {},
   "outputs": [],
   "source": [
    "d1= {\"name\":\"Qui\" , \"E-mail\": \"qui@gmail.com\" , \"cell\": \"2547\"}"
   ]
  },
  {
   "cell_type": "code",
   "execution_count": 11,
   "id": "4f5f1ca1-337c-4ef0-a39a-4b72af656d96",
   "metadata": {},
   "outputs": [
    {
     "data": {
      "text/plain": [
       "{'name': 'Qui', 'E-mail': 'qui@gmail.com', 'cell': '2547'}"
      ]
     },
     "execution_count": 11,
     "metadata": {},
     "output_type": "execute_result"
    }
   ],
   "source": [
    "d1"
   ]
  },
  {
   "cell_type": "markdown",
   "id": "edf4b0cf-48cb-4490-9ad9-4528cb54773b",
   "metadata": {},
   "source": [
    "## Q6. Can we create a nested dictionary? YES If so, please give an example by creating a simple one-level nested dictionary.##"
   ]
  },
  {
   "cell_type": "code",
   "execution_count": 15,
   "id": "1f07b5ff-a97b-4fed-a233-88e0597664cc",
   "metadata": {},
   "outputs": [
    {
     "name": "stdout",
     "output_type": "stream",
     "text": [
      "{'trainer1': {'name': 'Krish', 'age': 32}, 'trainer2': {'name': 'Sudh', 'age': 30}}\n"
     ]
    }
   ],
   "source": [
    "pwskillstrainerdict = dict(trainer1 = {'name': 'Krish', 'age': 32},\n",
    "         trainer2 = {'name': 'Sudh', 'age': 30})\n",
    "        \n",
    "print(pwskillstrainerdict)"
   ]
  },
  {
   "cell_type": "markdown",
   "id": "a5ac0c81-c987-4e16-870f-9967ab37a018",
   "metadata": {},
   "source": [
    "##Q7. Using setdefault() method, create key named topics in the given dictionary and also add the value of\n",
    "the key as this list ['Python', 'Machine Learning’, 'Deep Learning']"
   ]
  },
  {
   "cell_type": "code",
   "execution_count": 10,
   "id": "7b80c545-6525-464e-a871-d9034f08833a",
   "metadata": {},
   "outputs": [
    {
     "name": "stdout",
     "output_type": "stream",
     "text": [
      "dict1 =  {'language': 'Python', 'course': 'Data Science Masters', 'course2': 'Machine Learning', 'course3': 'Deep Learning'}\n"
     ]
    }
   ],
   "source": [
    "dict1 = {'language' : 'Python', 'course': 'Data Science Masters'}\n",
    "course2 = dict1.setdefault('course2' , 'Machine Learning')\n",
    "course3 = dict1.setdefault('course3' , 'Deep Learning')\n",
    "\n",
    "print('dict1 = ', dict1)\n",
    "\n",
    "\n"
   ]
  },
  {
   "cell_type": "markdown",
   "id": "b3a18948-09f5-4b9f-b266-55176348669f",
   "metadata": {},
   "source": [
    "##Q8. What are the three view objects in dictionaries? \n",
    "    \n",
    "    These are keys, values and items.\n",
    "\n",
    "Use the three in-built methods in python to display these three view objects for the given dictionary.\n",
    "dict1 = {'Sport': 'Cricket' , 'Teams': ['India', 'Australia', 'England', 'South Africa', 'Sri Lanka', 'New Zealand']}"
   ]
  },
  {
   "cell_type": "code",
   "execution_count": 11,
   "id": "6a03dd8e-5126-4b95-afb0-18d2feb9c0ac",
   "metadata": {},
   "outputs": [
    {
     "name": "stdout",
     "output_type": "stream",
     "text": [
      "dict_keys(['Sport', 'Teams'])\n"
     ]
    }
   ],
   "source": [
    "dict1 = {'Sport': 'Cricket' , 'Teams': ['India', 'Australia', 'England', 'South Africa', 'Sri Lanka', 'New Zealand']}\n",
    "dict_keys = dict1.keys ()\n",
    "print (dict_keys)"
   ]
  },
  {
   "cell_type": "code",
   "execution_count": 12,
   "id": "40f5cf0e-250c-4c82-b4c6-e83d25e63b33",
   "metadata": {},
   "outputs": [
    {
     "name": "stdout",
     "output_type": "stream",
     "text": [
      "dict_items([('Sport', 'Cricket'), ('Teams', ['India', 'Australia', 'England', 'South Africa', 'Sri Lanka', 'New Zealand'])])\n"
     ]
    }
   ],
   "source": [
    "print(dict1.items())"
   ]
  },
  {
   "cell_type": "code",
   "execution_count": 14,
   "id": "e90e99c1-9898-4072-8b7e-74b2efa24a6b",
   "metadata": {},
   "outputs": [
    {
     "name": "stdout",
     "output_type": "stream",
     "text": [
      "dict_values(['Cricket', ['India', 'Australia', 'England', 'South Africa', 'Sri Lanka', 'New Zealand']])\n"
     ]
    }
   ],
   "source": [
    "print(dict1.values())"
   ]
  },
  {
   "cell_type": "code",
   "execution_count": null,
   "id": "a8d227b9-b666-4aeb-b37b-57f03603cebf",
   "metadata": {},
   "outputs": [],
   "source": []
  }
 ],
 "metadata": {
  "kernelspec": {
   "display_name": "Python 3 (ipykernel)",
   "language": "python",
   "name": "python3"
  },
  "language_info": {
   "codemirror_mode": {
    "name": "ipython",
    "version": 3
   },
   "file_extension": ".py",
   "mimetype": "text/x-python",
   "name": "python",
   "nbconvert_exporter": "python",
   "pygments_lexer": "ipython3",
   "version": "3.10.8"
  }
 },
 "nbformat": 4,
 "nbformat_minor": 5
}
