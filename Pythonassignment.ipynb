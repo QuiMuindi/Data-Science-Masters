{
 "cells": [
  {
   "cell_type": "markdown",
   "id": "e529619b-14a2-4a4b-adca-d838d51b171c",
   "metadata": {},
   "source": [
    "##1. Who developed Python Programming Language?##\n",
    "\n",
    "    Python was created by a Dutch Programmer called Guido van Rossum"
   ]
  },
  {
   "cell_type": "markdown",
   "id": "40b413a5-6210-49d4-a7d0-d33e1f293eb8",
   "metadata": {},
   "source": [
    "##2. Which type of programming does Python support?##\n",
    "\n",
    "    Python supports Object-Oriented, imperative, functional and procedural programming"
   ]
  },
  {
   "cell_type": "markdown",
   "id": "997bdaa2-a8fc-4456-b117-9063fd5c0be3",
   "metadata": {},
   "source": [
    "##3. Is Python case-sensitive when dealing with identifiers?##\n",
    "\n",
    "    Yes it is case-sensitive as it deals with characters differently"
   ]
  },
  {
   "cell_type": "markdown",
   "id": "f70ed9a0-e09e-43ed-b010-12e583f2a740",
   "metadata": {},
   "source": [
    "##4. What is the correct ex4tension of the Python file?##\n",
    "\n",
    "    py"
   ]
  },
  {
   "cell_type": "markdown",
   "id": "ea06bcf1-7e2d-4b81-9282-1c7a82c8b729",
   "metadata": {},
   "source": [
    "##5. Is Python code compiled or interpreted?##\n",
    "\n",
    "    It is interpreted"
   ]
  },
  {
   "cell_type": "markdown",
   "id": "952db6c9-883a-4cdf-b6a5-44fe495e861a",
   "metadata": {},
   "source": [
    "##6. Name a few blocks of code used to define in Python language##\n",
    "\n",
    "    If else, while, if elif else"
   ]
  },
  {
   "cell_type": "markdown",
   "id": "b0513d18-8393-42ec-8e1a-2789457a0f0a",
   "metadata": {},
   "source": [
    "##7. State a character used to define single-line comments in Python##\n",
    "\n",
    "    Hash #"
   ]
  },
  {
   "cell_type": "markdown",
   "id": "87594b13-58b2-4d8f-bd4f-6e5f814883d4",
   "metadata": {},
   "source": [
    "##8. Mention functions which can help us to find the version of Python that we are currently working on##"
   ]
  },
  {
   "cell_type": "markdown",
   "id": "d37b056f-3594-472b-9fc4-7d80197d02ce",
   "metadata": {},
   "source": [
    "##9. Python supports the creation of anynomous functions at run-time, using a construct called?##\n",
    "\n",
    "        lambda"
   ]
  },
  {
   "cell_type": "markdown",
   "id": "6edce35f-4e21-4f11-aa36-5d3bec17303c",
   "metadata": {},
   "source": [
    "##10. What does pip stand for in Python\"## \n",
    "\n",
    "    Pip install packages"
   ]
  },
  {
   "cell_type": "markdown",
   "id": "4fe7b0a0-ddb3-4b6f-8e34-0adabd796be5",
   "metadata": {},
   "source": [
    "##11. Mention a few built-in functions in Python##\n",
    "\n",
    "    int, len, list, type, string, print, dict"
   ]
  },
  {
   "cell_type": "markdown",
   "id": "5e5d879c-4b44-44b9-a1eb-3d48cfbe5bf5",
   "metadata": {},
   "source": [
    "##12. What is the maximum possible length of an identifier in Python?## \n",
    "\n",
    "        79 characters"
   ]
  },
  {
   "cell_type": "markdown",
   "id": "e82ea6f2-c006-4577-a9ce-4992db582287",
   "metadata": {},
   "source": [
    "##13. What are the benefits of using Python?##\n",
    "\n",
    "    - It has extensive support libraries\n",
    "    - It supports multiple systems and platforms\n",
    "    - Easy to use and learn\n",
    "    - It's free and open source"
   ]
  },
  {
   "cell_type": "markdown",
   "id": "22f0ee09-1f43-4d80-bff5-17f7852e3047",
   "metadata": {},
   "source": [
    "##14. How is memory managed in Python?##\n",
    "\n",
    "    Python optimizes memory utilization by allocating the same object reference to a new variable if the object already exists with the same value.\n",
    "    "
   ]
  },
  {
   "cell_type": "markdown",
   "id": "eecc4270-fdf9-4df8-9780-9c916c7a8d42",
   "metadata": {},
   "source": [
    "##15. How do you install Python on Windows and set path variables?##\n",
    "\n",
    "     Open a browser to the Python website and download the Windows installer. 2. Double click on the downloaded file and install Python for all users, and ensure that Python is added to your path. Click on Install now to begin. Locate your Python executable, open the Start menu and search for the Edit the system environment variables entry, which opens up a System Properties window. In the Advanced tab, click on the button Environment Variables. There you’ll see User and System variables, which you’ll be able to edit.In the section entitled User Variables, double-click on the entry that says Path. Another window will pop up showing a list of paths. Click the New button and paste the path to your Python executable there. Once that’s inserted, select your newly added path and click the Move Up button until it’s at the top."
   ]
  },
  {
   "cell_type": "markdown",
   "id": "2ce8d7cd-ea45-4533-a42a-36c640e9b70e",
   "metadata": {},
   "source": [
    "##16. Is indentation required in Python?##\n",
    "\n",
    "    Yes"
   ]
  }
 ],
 "metadata": {
  "kernelspec": {
   "display_name": "Python 3 (ipykernel)",
   "language": "python",
   "name": "python3"
  },
  "language_info": {
   "codemirror_mode": {
    "name": "ipython",
    "version": 3
   },
   "file_extension": ".py",
   "mimetype": "text/x-python",
   "name": "python",
   "nbconvert_exporter": "python",
   "pygments_lexer": "ipython3",
   "version": "3.10.8"
  }
 },
 "nbformat": 4,
 "nbformat_minor": 5
}
