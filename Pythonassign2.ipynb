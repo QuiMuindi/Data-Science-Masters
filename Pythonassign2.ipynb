{
 "cells": [
  {
   "cell_type": "markdown",
   "id": "6dbe761d-c489-40be-8c34-c823d4f247b4",
   "metadata": {},
   "source": [
    " ## Q1. Marks conversion to Grade ##"
   ]
  },
  {
   "cell_type": "code",
   "execution_count": 7,
   "id": "fa00a2f3-b44e-4b47-967a-08201c012777",
   "metadata": {},
   "outputs": [
    {
     "name": "stdin",
     "output_type": "stream",
     "text": [
      "Enter the total marks achieved 66\n"
     ]
    },
    {
     "name": "stdout",
     "output_type": "stream",
     "text": [
      "Your mean grade is C\n"
     ]
    }
   ],
   "source": [
    "total_marks = int (input (\"Enter the total marks achieved\"))\n",
    "if total_marks >90:\n",
    "    print (\"You have achieved a mean grade of A: excellent!\")\n",
    "elif total_marks >80 and total_marks <=90:\n",
    "    print (\"You have achieved a mean grade of B: good work\")\n",
    "elif total_marks >=60 and total_marks <=80:\n",
    "    print (\"Your mean grade is C\")\n",
    "else: \n",
    "    print (\"Your mean grade is D, for dismal performance!!!\")"
   ]
  },
  {
   "cell_type": "markdown",
   "id": "7bf8eab2-76c6-4260-97c4-d08255c8ab6f",
   "metadata": {},
   "source": [
    "## Q2. Cost price of bike with the corresponding road tax to be paid ##"
   ]
  },
  {
   "cell_type": "code",
   "execution_count": 14,
   "id": "cf0f4d91-6e8b-43c3-8180-9f82c3454d87",
   "metadata": {},
   "outputs": [
    {
     "name": "stdin",
     "output_type": "stream",
     "text": [
      "Enter the cost of the bike in Rupees: 48000\n"
     ]
    },
    {
     "name": "stdout",
     "output_type": "stream",
     "text": [
      "The total road tax for this bike is 45600.0\n"
     ]
    }
   ],
   "source": [
    "bike_price = int (input (\"Enter the cost of the bike in Rupees:\"))\n",
    "if bike_price >100000:\n",
    "    print (f\"The total road tax to be paid for this bike is {bike_price*0.85}\")\n",
    "elif bike_price >50000 and bike_price <=100000:\n",
    "    print (f\"The total road tax to be paid for this bike is {bike_price*0.9}\")\n",
    "elif bike_price <= 50000:\n",
    "    print (f\"The total road tax for this bike is {bike_price*.95}\")\n",
    "    \n"
   ]
  },
  {
   "cell_type": "markdown",
   "id": "93f5af11-013c-435d-8db7-4feff34e8882",
   "metadata": {},
   "source": [
    "## Q3. City with corresponding monuments ##"
   ]
  },
  {
   "cell_type": "code",
   "execution_count": 23,
   "id": "fd397276-b154-4352-8774-920bc34f60a7",
   "metadata": {},
   "outputs": [
    {
     "name": "stdout",
     "output_type": "stream",
     "text": [
      "Delhi\n",
      "The major monument found in this city is Red Fort\n",
      "Agra\n",
      "The major monument found in this city is The Taj Mahal\n",
      "Jaipur\n",
      "The major monument found in this city is Jal Mahal\n"
     ]
    }
   ],
   "source": [
    "city_list = [\"Delhi\" , \"Agra\" , \"Jaipur\"]\n",
    "for x in city_list:\n",
    "    print (x)\n",
    "    if x == \"Delhi\":\n",
    "        print (\"The major monument found in this city is Red Fort\")\n",
    "    if x == \"Agra\":\n",
    "        print (\"The major monument found in this city is The Taj Mahal\")\n",
    "    if x == \"Jaipur\":\n",
    "        print (\"The major monument found in this city is Jal Mahal\")"
   ]
  },
  {
   "cell_type": "markdown",
   "id": "fa42988e-9640-4f17-a347-71b31592a1f8",
   "metadata": {},
   "source": [
    "## Q4. Check how many times a given number can be divided by 3 before it is less than or equal to 10. ##"
   ]
  },
  {
   "cell_type": "code",
   "execution_count": 28,
   "id": "1ec6416e-61af-4637-8ee6-3658595cf319",
   "metadata": {},
   "outputs": [],
   "source": [
    "num = 10\n",
    "while num > 500:\n",
    "    num += 1\n",
    "if (num%3) == 0:\n",
    "    print (num)\n",
    "  "
   ]
  },
  {
   "cell_type": "code",
   "execution_count": 31,
   "id": "82f33327-79fa-4d18-849e-de6ff7768b2c",
   "metadata": {},
   "outputs": [
    {
     "name": "stdout",
     "output_type": "stream",
     "text": [
      "0 1 2 3 4 5 6 7 8 9 10 11 12 13 14 "
     ]
    }
   ],
   "source": [
    "## Q5. Why and when to use While loop in Python, giving a detailed description with example\n",
    "##A while loop is used to run same task a multiple number of times until the condition set is met##\n",
    "\n",
    "x = 0\n",
    "while (x<15):\n",
    "    print (x, end=\" \")\n",
    "    x = x+1\n"
   ]
  },
  {
   "cell_type": "code",
   "execution_count": 39,
   "id": "b5999a42-ef58-4de6-865d-6072274459ad",
   "metadata": {},
   "outputs": [
    {
     "name": "stdout",
     "output_type": "stream",
     "text": [
      "$ \n",
      "$ $ \n",
      "$ $ $ \n",
      "$ $ $ $ \n",
      "$ $ $ $ $ \n",
      "$ $ $ $ $ $ \n",
      "$ $ $ $ $ $ $ \n"
     ]
    }
   ],
   "source": [
    "## Q6. Use nested while loop to print 3 different patterns##\n",
    "\n",
    "n = 7\n",
    "for i in range (0, n):\n",
    "    for j in range (0, i+1):\n",
    "        print (\"$\", end= \" \")\n",
    "    print (\"\\r\")"
   ]
  },
  {
   "cell_type": "code",
   "execution_count": 46,
   "id": "3678f6be-0908-4867-b028-97b0cc8ea60a",
   "metadata": {},
   "outputs": [
    {
     "name": "stdout",
     "output_type": "stream",
     "text": [
      "$ $ $ $ $ $ $ \n",
      "$ $ $ $ $ $ \n",
      "$ $ $ $ $ \n",
      "$ $ $ $ \n",
      "$ $ $ \n",
      "$ $ \n",
      "$ \n"
     ]
    }
   ],
   "source": [
    "rows = 7\n",
    "num = rows\n",
    "\n",
    "for i in range (rows, 0, -1):\n",
    "    for j in range (0, i):\n",
    "        print (\"$\", end= \" \")\n",
    "    print (\"\\r\")"
   ]
  },
  {
   "cell_type": "code",
   "execution_count": 47,
   "id": "e67d41f7-a42f-4091-bee6-77d9efed14d7",
   "metadata": {},
   "outputs": [
    {
     "name": "stdout",
     "output_type": "stream",
     "text": [
      "        * * * * * * \n",
      "         * * * * * \n",
      "          * * * * \n",
      "           * * * \n",
      "            * * \n",
      "             * \n"
     ]
    }
   ],
   "source": [
    "rows = 5\n",
    "k = 2 * rows - 2\n",
    "for i in range(rows, -1, -1):\n",
    "    for j in range(k, 0, -1):\n",
    "        print(end=\" \")\n",
    "    k = k + 1\n",
    "    for j in range(0, i + 1):\n",
    "        print(\"*\", end=\" \")\n",
    "    print(\"\")\n"
   ]
  },
  {
   "cell_type": "markdown",
   "id": "106c96c5-75ea-4a31-af08-7d2aef7a23d8",
   "metadata": {},
   "source": [
    "## Q7. Reverse a while loop to display numbers from 10 to 1"
   ]
  },
  {
   "cell_type": "code",
   "execution_count": 2,
   "id": "4a3ee25c-a9d4-4ebb-9564-e86b31905599",
   "metadata": {},
   "outputs": [
    {
     "name": "stdout",
     "output_type": "stream",
     "text": [
      "10 9 8 7 6 5 4 3 2 1 "
     ]
    }
   ],
   "source": [
    "i=10\n",
    "\n",
    "while(i>=1):\n",
    "    print(i, end=(\" \"))\n",
    "    i=i-1\n"
   ]
  },
  {
   "cell_type": "code",
   "execution_count": null,
   "id": "3f8c1f74-c7be-4cb2-8a1d-c96e5eeca9d3",
   "metadata": {},
   "outputs": [],
   "source": []
  }
 ],
 "metadata": {
  "kernelspec": {
   "display_name": "Python 3 (ipykernel)",
   "language": "python",
   "name": "python3"
  },
  "language_info": {
   "codemirror_mode": {
    "name": "ipython",
    "version": 3
   },
   "file_extension": ".py",
   "mimetype": "text/x-python",
   "name": "python",
   "nbconvert_exporter": "python",
   "pygments_lexer": "ipython3",
   "version": "3.10.8"
  }
 },
 "nbformat": 4,
 "nbformat_minor": 5
}
