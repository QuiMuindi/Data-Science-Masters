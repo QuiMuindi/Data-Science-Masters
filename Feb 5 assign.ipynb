{
 "cells": [
  {
   "cell_type": "markdown",
   "id": "71990721-ad3b-4fe4-91d5-0d414a76fb74",
   "metadata": {},
   "source": [
    "## February 5, 2023 assignment##"
   ]
  },
  {
   "cell_type": "code",
   "execution_count": 4,
   "id": "64cfee6e-25f2-4b2c-a000-be5a7b6b1753",
   "metadata": {},
   "outputs": [
    {
     "name": "stdout",
     "output_type": "stream",
     "text": [
      "Name: Bruno Sex: Male Breed: German Shepherd\n"
     ]
    }
   ],
   "source": [
    "\" Q1. Explain Class and Object with respect to Object-Oriented Programming. Give a suitable example. \"\n",
    "\n",
    "\n",
    "\"A class is a user-defined type that describes what a certain type of object will look like; an object on the other hand\"\n",
    "\"is a collection of variables and methods within a class\" \n",
    "\n",
    "\"Example\"\n",
    "\n",
    "class Dog:\n",
    "    \n",
    "    def __init__(self, name, sex, breed):\n",
    "       \n",
    "        self.name = name\n",
    "        self.sex = sex\n",
    "        self.breed = breed\n",
    "        \n",
    "    def show(self):\n",
    "        print('Name:', self.name, 'Sex:', self.sex, 'Breed:', self.breed)\n",
    "\n",
    "Bruno = Dog ('Bruno', 'Male', 'German Shepherd')\n",
    "\n",
    "Bruno.show()"
   ]
  },
  {
   "cell_type": "code",
   "execution_count": null,
   "id": "dfe2b47d-4b7b-4fcf-a7de-c27a422516fd",
   "metadata": {},
   "outputs": [],
   "source": [
    "\"Q2. Name the four pillars of OOPs.\"\n",
    "\n",
    "\"The four pillars of OOPs are Inheritance, Polymorphism, Encapsulation and Abstraction\""
   ]
  },
  {
   "cell_type": "code",
   "execution_count": 12,
   "id": "60a51a42-447c-4d07-9834-61daef6e29cc",
   "metadata": {},
   "outputs": [
    {
     "name": "stdout",
     "output_type": "stream",
     "text": [
      "My name is Qui. I enjoy baking\n"
     ]
    }
   ],
   "source": [
    "Q3. \"Explain why the __init__() function is used. Give a suitable example.\"\n",
    "\n",
    "\"It is an inbuilt function that is automatically initiated each and every time a new object is created from any class\"\n",
    "\n",
    "\"Example\"\n",
    "\n",
    "class Me:\n",
    "  def __init__(self, name, age, hobby):\n",
    "    self.name = name\n",
    "    self.age = age\n",
    "    self.hobby= hobby\n",
    "\n",
    "  def show(self):\n",
    "    print(\"My name is \" + self.name + \". I enjoy \" + self.hobby)\n",
    "\n",
    "Me1 = Me (\"Qui\", 44, \"baking\")\n",
    "Me1.show()"
   ]
  },
  {
   "cell_type": "code",
   "execution_count": 13,
   "id": "0fb81a40-0e86-470a-81da-dd6e9dbfb0a9",
   "metadata": {},
   "outputs": [
    {
     "data": {
      "text/plain": [
       "'Q4. Why self is used in OOPs?'"
      ]
     },
     "execution_count": 13,
     "metadata": {},
     "output_type": "execute_result"
    }
   ],
   "source": [
    "\"Q4. Why self is used in OOPs?\" \n",
    "\n",
    "\"It is used as a pointer to the particular class\""
   ]
  },
  {
   "cell_type": "code",
   "execution_count": 16,
   "id": "cf6cbda7-51f9-45af-97c2-9daef13d7929",
   "metadata": {},
   "outputs": [
    {
     "name": "stdout",
     "output_type": "stream",
     "text": [
      "Muindis family\n"
     ]
    }
   ],
   "source": [
    "\"Q5. What is inheritance? Give an example for each type of inheritance.\"\n",
    "\n",
    "\"Inheritance is the capability of one class to derive or inherit the properties and methods from another class\"\n",
    "\n",
    "\"Single Inheritance example\"\n",
    "\n",
    "class Muindi:\n",
    "    def family_Muindi(self):\n",
    "        print (\"Muindis family\")\n",
    "\n",
    "class Katelyn(Muindi):\n",
    "    pass\n",
    "\n",
    "child_Kate=Katelyn()\n",
    "child_Kate.family_Muindi()"
   ]
  },
  {
   "cell_type": "code",
   "execution_count": 17,
   "id": "41d28cf8-2c28-4d1a-b8fb-d578172e6805",
   "metadata": {},
   "outputs": [
    {
     "name": "stdout",
     "output_type": "stream",
     "text": [
      "I am Muindi's wife\n",
      "I am a member of Muindi's family\n",
      "I am Muindi's eldest child\n",
      "I am a member of Muindi's family\n",
      "I am Muindi's youngest child\n"
     ]
    }
   ],
   "source": [
    "\"Hierarchical Inheritance example\"\n",
    "\n",
    "class Muindi:\n",
    "    def family_Muindi(self):\n",
    "        print (\"I am a member of Muindi's family\")\n",
    "\n",
    "class Wangui(Muindi):\n",
    "    def wife_Muindi(self):\n",
    "        print (\"I am Muindi's wife\")\n",
    "    \n",
    "class Katelyn(Muindi):\n",
    "    def child1_Muindi(self):\n",
    "        print (\"I am Muindi's eldest child\")\n",
    "        \n",
    "class Korryne(Muindi):\n",
    "    def child2_Muindi(self):\n",
    "        print (\"I am Muindi's youngest child\")\n",
    "        \n",
    "fam1=Wangui()\n",
    "fam2=Katelyn()\n",
    "fam3=Korryne()\n",
    "\n",
    "fam1.wife_Muindi()\n",
    "fam1.family_Muindi()\n",
    "\n",
    "fam2.child1_Muindi()\n",
    "fam2.family_Muindi()\n",
    "\n",
    "fam3.child2_Muindi()\n"
   ]
  },
  {
   "cell_type": "code",
   "execution_count": 18,
   "id": "102758ce-ed29-4c08-ad62-87cb2a7010be",
   "metadata": {},
   "outputs": [
    {
     "name": "stdout",
     "output_type": "stream",
     "text": [
      "This is a Data Science course taught at PWSkills\n",
      "This is a stock market foundamentals course taught at PWSkills\n"
     ]
    }
   ],
   "source": [
    "\"Multi-level example\"\n",
    "\n",
    "class PWSkills:\n",
    "    def DSM_PWSkills(self):\n",
    "        print (\"This is a Data Science course taught at PWSkills\")\n",
    "        \n",
    "class Web_Dev(PWSkills):\n",
    "    def FullStackWD(self):\n",
    "        print (\"This is a web development course taught at PWSkills\")\n",
    "        \n",
    "class Finance(Web_Dev):\n",
    "    def StockMkt(self):\n",
    "        print (\"This is a stock market foundamentals course taught at PWSkills\")\n",
    "        \n",
    "course_Finance = Finance()\n",
    "course_Finance.DSM_PWSkills()\n",
    "course_Finance.StockMkt()"
   ]
  },
  {
   "cell_type": "code",
   "execution_count": 19,
   "id": "80235253-85f2-4caa-820d-5230209b0cb4",
   "metadata": {},
   "outputs": [
    {
     "name": "stdout",
     "output_type": "stream",
     "text": [
      "This is the main course taught in the Data Science Syllabus\n",
      "This is one of the modules taught under Data Analysis\n"
     ]
    }
   ],
   "source": [
    "\"Multiple inheritance example\"\n",
    "\n",
    "class DSMasters:\n",
    "    def course_DSMasters(self):\n",
    "        print (\"This is the main course taught in the Data Science Syllabus\")\n",
    "    \n",
    "class DataAnalysis:\n",
    "    def visualization_DataAnalsis(self):\n",
    "        print (\"This is one of the modules taught under Data Analysis\")\n",
    "        \n",
    "class PWSkills(DSMasters, DataAnalysis):\n",
    "        pass\n",
    "\n",
    "module_PWSkills=PWSkills()\n",
    "\n",
    "module_PWSkills.course_DSMasters()\n",
    "module_PWSkills.visualization_DataAnalsis()"
   ]
  },
  {
   "cell_type": "code",
   "execution_count": null,
   "id": "b810ad1a-3a68-4a1b-8021-16f3191a1752",
   "metadata": {},
   "outputs": [],
   "source": []
  }
 ],
 "metadata": {
  "kernelspec": {
   "display_name": "Python 3 (ipykernel)",
   "language": "python",
   "name": "python3"
  },
  "language_info": {
   "codemirror_mode": {
    "name": "ipython",
    "version": 3
   },
   "file_extension": ".py",
   "mimetype": "text/x-python",
   "name": "python",
   "nbconvert_exporter": "python",
   "pygments_lexer": "ipython3",
   "version": "3.10.8"
  }
 },
 "nbformat": 4,
 "nbformat_minor": 5
}
